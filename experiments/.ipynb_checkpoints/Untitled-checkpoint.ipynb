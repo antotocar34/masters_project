{
 "cells": [
  {
   "cell_type": "code",
   "execution_count": 58,
   "id": "e601f0b9",
   "metadata": {},
   "outputs": [],
   "source": [
    "import pandas as pd\n",
    "import numpy as np\n",
    "import json\n",
    "import seaborn as sns\n",
    "\n",
    "import matplotlib.pyplot as plt"
   ]
  },
  {
   "cell_type": "code",
   "execution_count": 104,
   "id": "e66673e1",
   "metadata": {},
   "outputs": [],
   "source": [
    "with open('results/experiment1.json', 'r') as file:\n",
    "        experiment1 = json.load(file)"
   ]
  },
  {
   "cell_type": "code",
   "execution_count": 52,
   "id": "865e1ffc",
   "metadata": {},
   "outputs": [],
   "source": [
    "experiment1_df = pd.DataFrame(experiment1)\n",
    "experiment1_df.loc[experiment1_df.dataset.isin(filt) & experiment1_df.recovers_LA.eq(False),  ['dataset', 'method', 'model', 'run', 'coef_init', 'marginalPProb']]\n",
    "quantities = ['dataset', 'method', 'run', 'n', 'p', 'model', 'marginalPProb']\n",
    "df_graph_1 = [{key: value for key, value in d.items() if key in quantities} for d in experiment1]\n",
    "df_graph_1 = pd.DataFrame(df_graph_1)\n",
    "df_graph_1[[str(i) for i in range(1, 12)]] = pd.DataFrame(df_graph_1.marginalPProb.tolist(), index= df_graph_1.index)\n",
    "df_graph_1.drop(columns=['marginalPProb'], inplace = True)\n",
    "df_graph_1_final = pd.melt(df_graph_1, \n",
    "                           id_vars=['model', 'method', 'dataset', 'run'], \n",
    "                           value_vars=[str(i) for i in range(1, 12)], \n",
    "                           var_name='covariate',\n",
    "                           value_name='marginalPProb')\n",
    "\n",
    "df_graph_1_final[\"covariate\"] = pd.to_numeric(df_graph_1_final.covariate)\n",
    "\n",
    "df_graph_1_final = pd.merge(df_graph_1_final[df_graph_1_final.method == \"ALASMC\"], \n",
    "                            df_graph_1_final.loc[df_graph_1_final.method == \"LA\", ['dataset', 'model', 'marginalPProb', 'covariate']],\n",
    "                            how='left', on=['model', 'dataset', 'covariate'], suffixes=['', '_LA'])\n",
    "\n",
    "df_graph_1_final[\"marginalPProb_diff\"] = df_graph_1_final.marginalPProb - df_graph_1_final.marginalPProb_LA\n",
    "df_graph_1_final.drop(columns=['marginalPProb', 'marginalPProb_LA'], inplace=True)"
   ]
  },
  {
   "cell_type": "code",
   "execution_count": 67,
   "id": "1b558676",
   "metadata": {},
   "outputs": [
    {
     "data": {
      "text/html": [
       "<div>\n",
       "<style scoped>\n",
       "    .dataframe tbody tr th:only-of-type {\n",
       "        vertical-align: middle;\n",
       "    }\n",
       "\n",
       "    .dataframe tbody tr th {\n",
       "        vertical-align: top;\n",
       "    }\n",
       "\n",
       "    .dataframe thead th {\n",
       "        text-align: right;\n",
       "    }\n",
       "</style>\n",
       "<table border=\"1\" class=\"dataframe\">\n",
       "  <thead>\n",
       "    <tr style=\"text-align: right;\">\n",
       "      <th></th>\n",
       "      <th>dataset</th>\n",
       "      <th>method</th>\n",
       "      <th>n</th>\n",
       "      <th>p</th>\n",
       "      <th>model</th>\n",
       "      <th>run</th>\n",
       "      <th>1</th>\n",
       "      <th>2</th>\n",
       "      <th>3</th>\n",
       "      <th>4</th>\n",
       "      <th>5</th>\n",
       "      <th>6</th>\n",
       "      <th>7</th>\n",
       "      <th>8</th>\n",
       "      <th>9</th>\n",
       "      <th>10</th>\n",
       "      <th>11</th>\n",
       "    </tr>\n",
       "  </thead>\n",
       "  <tbody>\n",
       "    <tr>\n",
       "      <th>1281</th>\n",
       "      <td>26</td>\n",
       "      <td>ALASMC</td>\n",
       "      <td>1000</td>\n",
       "      <td>10</td>\n",
       "      <td>Binomial Logit</td>\n",
       "      <td>5.0</td>\n",
       "      <td>1.0</td>\n",
       "      <td>0.6810</td>\n",
       "      <td>0.3878</td>\n",
       "      <td>0.5368</td>\n",
       "      <td>0.5438</td>\n",
       "      <td>0.4088</td>\n",
       "      <td>0.6070</td>\n",
       "      <td>0.5780</td>\n",
       "      <td>0.6472</td>\n",
       "      <td>0.6632</td>\n",
       "      <td>NaN</td>\n",
       "    </tr>\n",
       "    <tr>\n",
       "      <th>2811</th>\n",
       "      <td>26</td>\n",
       "      <td>ALASMC</td>\n",
       "      <td>1000</td>\n",
       "      <td>11</td>\n",
       "      <td>Poisson</td>\n",
       "      <td>5.0</td>\n",
       "      <td>1.0</td>\n",
       "      <td>0.0158</td>\n",
       "      <td>0.0206</td>\n",
       "      <td>0.1268</td>\n",
       "      <td>1.0000</td>\n",
       "      <td>1.0000</td>\n",
       "      <td>0.0042</td>\n",
       "      <td>0.0126</td>\n",
       "      <td>0.0098</td>\n",
       "      <td>0.0156</td>\n",
       "      <td>0.0052</td>\n",
       "    </tr>\n",
       "  </tbody>\n",
       "</table>\n",
       "</div>"
      ],
      "text/plain": [
       "      dataset  method     n   p           model  run    1       2       3  \\\n",
       "1281       26  ALASMC  1000  10  Binomial Logit  5.0  1.0  0.6810  0.3878   \n",
       "2811       26  ALASMC  1000  11         Poisson  5.0  1.0  0.0158  0.0206   \n",
       "\n",
       "           4       5       6       7       8       9      10      11  \n",
       "1281  0.5368  0.5438  0.4088  0.6070  0.5780  0.6472  0.6632     NaN  \n",
       "2811  0.1268  1.0000  1.0000  0.0042  0.0126  0.0098  0.0156  0.0052  "
      ]
     },
     "execution_count": 67,
     "metadata": {},
     "output_type": "execute_result"
    }
   ],
   "source": []
  },
  {
   "cell_type": "markdown",
   "id": "003e7909",
   "metadata": {},
   "source": [
    "## Graph 1 (v1)"
   ]
  },
  {
   "cell_type": "code",
   "execution_count": 109,
   "id": "f6162c51",
   "metadata": {
    "scrolled": true
   },
   "outputs": [
    {
     "data": {
      "image/png": "[encoded data removed]",
      "text/plain": [
       "<Figure size 720x360 with 2 Axes>"
      ]
     },
     "metadata": {
      "needs_background": "light"
     },
     "output_type": "display_data"
    }
   ],
   "source": [
    "quantities = ['dataset', 'method', 'run', 'n', 'p', 'model', 'marginalPProb']\n",
    "df_graph_1 = [{key: value for key, value in d.items() if key in quantities} for d in experiment1]\n",
    "df_graph_1 = pd.DataFrame(df_graph_1)\n",
    "df_graph_1[[str(i) for i in range(1, 12)]] = pd.DataFrame(df_graph_1.marginalPProb.tolist(), index= df_graph_1.index)\n",
    "df_graph_1.drop(columns=['marginalPProb'], inplace = True)\n",
    "df_graph_1_final = pd.melt(df_graph_1, \n",
    "                           id_vars=['model', 'method', 'dataset', 'run'], \n",
    "                           value_vars=[str(i) for i in range(1, 12)], \n",
    "                           var_name='covariate',\n",
    "                           value_name='marginalPProb')\n",
    "\n",
    "df_graph_1_final[\"covariate\"] = pd.to_numeric(df_graph_1_final.covariate)\n",
    "\n",
    "df_graph_1_final = pd.merge(df_graph_1_final[df_graph_1_final.method == \"ALASMC\"], \n",
    "                            df_graph_1_final.loc[df_graph_1_final.method == \"LA\", ['dataset', 'model', 'marginalPProb', 'covariate']],\n",
    "                            how='left', on=['model', 'dataset', 'covariate'], suffixes=['', '_LA'])\n",
    "\n",
    "df_graph_1_final[\"marginalPProb_diff\"] = df_graph_1_final.marginalPProb - df_graph_1_final.marginalPProb_LA\n",
    "df_graph_1_final.drop(columns=['marginalPProb', 'marginalPProb_LA'], inplace=True)\n",
    "g = sns.FacetGrid(data=df_graph_1_final, col=\"model\", height=5)\n",
    "g.map_dataframe(sns.boxplot, x=\"covariate\", y=\"marginalPProb_diff\")\n",
    "plt.show()"
   ]
  },
  {
   "cell_type": "code",
   "execution_count": 116,
   "id": "63c0f05d",
   "metadata": {},
   "outputs": [],
   "source": [
    "filter_out = list(zip(df_graph_1_final.loc[np.abs(df_graph_1_final[\"marginalPProb_diff\"]) > 0.2].dataset, df_graph_1_final.loc[np.abs(df_graph_1_final[\"marginalPProb_diff\"]) > 0.2].run))"
   ]
  },
  {
   "cell_type": "markdown",
   "id": "f1390082",
   "metadata": {},
   "source": [
    "# Graph 1 (v2)"
   ]
  },
  {
   "cell_type": "code",
   "execution_count": 121,
   "id": "60dae853",
   "metadata": {},
   "outputs": [
    {
     "data": {
      "image/png": "[encoded data removed]",
      "text/plain": [
       "<Figure size 720x360 with 2 Axes>"
      ]
     },
     "metadata": {
      "needs_background": "light"
     },
     "output_type": "display_data"
    }
   ],
   "source": [
    "experiment1_df = pd.DataFrame(experiment1)\n",
    "filt = np.array([(dataset, run) in filter_out for dataset, run in list(zip(experiment1_df.dataset, experiment1_df.run))])\n",
    "experiment1_df = experiment1_df.loc[~filt]\n",
    "quantities = ['dataset', 'method', 'run', 'n', 'p', 'model', 'marginalPProb']\n",
    "df_graph_1 = experiment1_df[quantities].copy()\n",
    "df_graph_1[[str(i) for i in range(1, 12)]] = pd.DataFrame(df_graph_1.marginalPProb.tolist(), index= df_graph_1.index)\n",
    "df_graph_1.drop(columns=['marginalPProb'], inplace = True)\n",
    "df_graph_1_final = pd.melt(df_graph_1, \n",
    "                           id_vars=['model', 'method', 'dataset', 'run'], \n",
    "                           value_vars=[str(i) for i in range(1, 12)], \n",
    "                           var_name='covariate',\n",
    "                           value_name='marginalPProb')\n",
    "\n",
    "df_graph_1_final[\"covariate\"] = pd.to_numeric(df_graph_1_final.covariate)\n",
    "\n",
    "df_graph_1_final = pd.merge(df_graph_1_final[df_graph_1_final.method == \"ALASMC\"], \n",
    "                            df_graph_1_final.loc[df_graph_1_final.method == \"LA\", ['dataset', 'model', 'marginalPProb', 'covariate']],\n",
    "                            how='left', on=['model', 'dataset', 'covariate'], suffixes=['', '_LA'])\n",
    "\n",
    "df_graph_1_final[\"marginalPProb_diff\"] = df_graph_1_final.marginalPProb - df_graph_1_final.marginalPProb_LA\n",
    "df_graph_1_final.drop(columns=['marginalPProb', 'marginalPProb_LA'], inplace=True)\n",
    "g = sns.FacetGrid(data=df_graph_1_final, col=\"model\", height=5)\n",
    "g.map_dataframe(sns.boxplot, x=\"covariate\", y=\"marginalPProb_diff\")\n",
    "plt.show()"
   ]
  }
 ],
 "metadata": {
  "kernelspec": {
   "display_name": "Python 3 (ipykernel)",
   "language": "python",
   "name": "python3"
  },
  "language_info": {
   "codemirror_mode": {
    "name": "ipython",
    "version": 3
   },
   "file_extension": ".py",
   "mimetype": "text/x-python",
   "name": "python",
   "nbconvert_exporter": "python",
   "pygments_lexer": "ipython3",
   "version": "3.9.0"
  }
 },
 "nbformat": 4,
 "nbformat_minor": 5
}
